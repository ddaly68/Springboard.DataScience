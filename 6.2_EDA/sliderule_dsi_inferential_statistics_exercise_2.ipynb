{
 "cells": [
  {
   "cell_type": "markdown",
   "metadata": {},
   "source": [
    "# Examining Racial Discrimination in the US Job Market\n",
    "\n",
    "### Background\n",
    "Racial discrimination continues to be pervasive in cultures throughout the world. Researchers examined the level of racial discrimination in the United States labor market by randomly assigning identical résumés to black-sounding or white-sounding names and observing the impact on requests for interviews from employers.\n",
    "\n",
    "### Data\n",
    "In the dataset provided, each row represents a resume. The 'race' column has two values, 'b' and 'w', indicating black-sounding and white-sounding. The column 'call' has two values, 1 and 0, indicating whether the resume received a call from employers or not.\n",
    "\n",
    "Note that the 'b' and 'w' values in race are assigned randomly to the resumes when presented to the employer."
   ]
  },
  {
   "cell_type": "markdown",
   "metadata": {},
   "source": [
    "### Exercises\n",
    "You will perform a statistical analysis to establish whether race has a significant impact on the rate of callbacks for resumes.\n",
    "\n",
    "Answer the following questions **in this notebook below and submit to your Github account**. \n",
    "\n",
    "   1. What test is appropriate for this problem? Does CLT apply?\n",
    "   2. What are the null and alternate hypotheses?\n",
    "   3. Compute margin of error, confidence interval, and p-value. Try using both the bootstrapping and the frequentist statistical approaches.\n",
    "   4. Write a story describing the statistical significance in the context or the original problem.\n",
    "   5. Does your analysis mean that race/name is the most important factor in callback success? Why or why not? If not, how would you amend your analysis?\n",
    "\n",
    "You can include written notes in notebook cells using Markdown: \n",
    "   - In the control panel at the top, choose Cell > Cell Type > Markdown\n",
    "   - Markdown syntax: http://nestacms.com/docs/creating-content/markdown-cheat-sheet\n",
    "\n",
    "#### Resources\n",
    "+ Experiment information and data source: http://www.povertyactionlab.org/evaluation/discrimination-job-market-united-states\n",
    "+ Scipy statistical methods: http://docs.scipy.org/doc/scipy/reference/stats.html \n",
    "+ Markdown syntax: http://nestacms.com/docs/creating-content/markdown-cheat-sheet\n",
    "+ Formulas for the Bernoulli distribution: https://en.wikipedia.org/wiki/Bernoulli_distribution"
   ]
  },
  {
   "cell_type": "code",
   "execution_count": 2,
   "metadata": {
    "collapsed": true
   },
   "outputs": [],
   "source": [
    "import pandas as pd\n",
    "import numpy as np\n",
    "from scipy import stats"
   ]
  },
  {
   "cell_type": "code",
   "execution_count": 23,
   "metadata": {},
   "outputs": [],
   "source": [
    "data = pd.io.stata.read_stata('data/us_job_market_discrimination.dta')\n"
   ]
  },
  {
   "cell_type": "code",
   "execution_count": 19,
   "metadata": {},
   "outputs": [
    {
     "name": "stdout",
     "output_type": "stream",
     "text": [
      "('white callbacks: ', 235.0)\n",
      "('black callbacks: ', 157.0)\n",
      "('rate of white callbacks: ', 0.096509240246406572)\n",
      "('rate of black callbacks: ', 0.064476386036960986)\n",
      "('probably of total success: ', 0.080492813141683772)\n"
     ]
    }
   ],
   "source": [
    "# number of callbacks for black-sounding names\n",
    "w=sum(data[data.race=='w'].call)\n",
    "b=sum(data[data.race=='b'].call)\n",
    "print('white callbacks: ',w)\n",
    "print('black callbacks: ',b)\n",
    "print('rate of white callbacks: ',w/len(data[data.race=='w']))\n",
    "print('rate of black callbacks: ',b/len(data[data.race=='b']))\n",
    "print('probably of total success: ',(b+w)/len(data))\n"
   ]
  },
  {
   "cell_type": "code",
   "execution_count": 39,
   "metadata": {},
   "outputs": [
    {
     "data": {
      "text/html": [
       "<div>\n",
       "<table border=\"1\" class=\"dataframe\">\n",
       "  <thead>\n",
       "    <tr style=\"text-align: right;\">\n",
       "      <th></th>\n",
       "      <th>id</th>\n",
       "      <th>ad</th>\n",
       "      <th>education</th>\n",
       "      <th>ofjobs</th>\n",
       "      <th>yearsexp</th>\n",
       "      <th>honors</th>\n",
       "      <th>volunteer</th>\n",
       "      <th>military</th>\n",
       "      <th>empholes</th>\n",
       "      <th>occupspecific</th>\n",
       "      <th>...</th>\n",
       "      <th>compreq</th>\n",
       "      <th>orgreq</th>\n",
       "      <th>manuf</th>\n",
       "      <th>transcom</th>\n",
       "      <th>bankreal</th>\n",
       "      <th>trade</th>\n",
       "      <th>busservice</th>\n",
       "      <th>othservice</th>\n",
       "      <th>missind</th>\n",
       "      <th>ownership</th>\n",
       "    </tr>\n",
       "  </thead>\n",
       "  <tbody>\n",
       "    <tr>\n",
       "      <th>0</th>\n",
       "      <td>b</td>\n",
       "      <td>1</td>\n",
       "      <td>4</td>\n",
       "      <td>2</td>\n",
       "      <td>6</td>\n",
       "      <td>0</td>\n",
       "      <td>0</td>\n",
       "      <td>0</td>\n",
       "      <td>1</td>\n",
       "      <td>17</td>\n",
       "      <td>...</td>\n",
       "      <td>1.0</td>\n",
       "      <td>0.0</td>\n",
       "      <td>1.0</td>\n",
       "      <td>0.0</td>\n",
       "      <td>0.0</td>\n",
       "      <td>0.0</td>\n",
       "      <td>0.0</td>\n",
       "      <td>0.0</td>\n",
       "      <td>0.0</td>\n",
       "      <td></td>\n",
       "    </tr>\n",
       "    <tr>\n",
       "      <th>1</th>\n",
       "      <td>b</td>\n",
       "      <td>1</td>\n",
       "      <td>3</td>\n",
       "      <td>3</td>\n",
       "      <td>6</td>\n",
       "      <td>0</td>\n",
       "      <td>1</td>\n",
       "      <td>1</td>\n",
       "      <td>0</td>\n",
       "      <td>316</td>\n",
       "      <td>...</td>\n",
       "      <td>1.0</td>\n",
       "      <td>0.0</td>\n",
       "      <td>1.0</td>\n",
       "      <td>0.0</td>\n",
       "      <td>0.0</td>\n",
       "      <td>0.0</td>\n",
       "      <td>0.0</td>\n",
       "      <td>0.0</td>\n",
       "      <td>0.0</td>\n",
       "      <td></td>\n",
       "    </tr>\n",
       "    <tr>\n",
       "      <th>2</th>\n",
       "      <td>b</td>\n",
       "      <td>1</td>\n",
       "      <td>4</td>\n",
       "      <td>1</td>\n",
       "      <td>6</td>\n",
       "      <td>0</td>\n",
       "      <td>0</td>\n",
       "      <td>0</td>\n",
       "      <td>0</td>\n",
       "      <td>19</td>\n",
       "      <td>...</td>\n",
       "      <td>1.0</td>\n",
       "      <td>0.0</td>\n",
       "      <td>1.0</td>\n",
       "      <td>0.0</td>\n",
       "      <td>0.0</td>\n",
       "      <td>0.0</td>\n",
       "      <td>0.0</td>\n",
       "      <td>0.0</td>\n",
       "      <td>0.0</td>\n",
       "      <td></td>\n",
       "    </tr>\n",
       "    <tr>\n",
       "      <th>3</th>\n",
       "      <td>b</td>\n",
       "      <td>1</td>\n",
       "      <td>3</td>\n",
       "      <td>4</td>\n",
       "      <td>6</td>\n",
       "      <td>0</td>\n",
       "      <td>1</td>\n",
       "      <td>0</td>\n",
       "      <td>1</td>\n",
       "      <td>313</td>\n",
       "      <td>...</td>\n",
       "      <td>1.0</td>\n",
       "      <td>0.0</td>\n",
       "      <td>1.0</td>\n",
       "      <td>0.0</td>\n",
       "      <td>0.0</td>\n",
       "      <td>0.0</td>\n",
       "      <td>0.0</td>\n",
       "      <td>0.0</td>\n",
       "      <td>0.0</td>\n",
       "      <td></td>\n",
       "    </tr>\n",
       "    <tr>\n",
       "      <th>4</th>\n",
       "      <td>b</td>\n",
       "      <td>1</td>\n",
       "      <td>3</td>\n",
       "      <td>3</td>\n",
       "      <td>22</td>\n",
       "      <td>0</td>\n",
       "      <td>0</td>\n",
       "      <td>0</td>\n",
       "      <td>0</td>\n",
       "      <td>313</td>\n",
       "      <td>...</td>\n",
       "      <td>1.0</td>\n",
       "      <td>1.0</td>\n",
       "      <td>0.0</td>\n",
       "      <td>0.0</td>\n",
       "      <td>0.0</td>\n",
       "      <td>0.0</td>\n",
       "      <td>0.0</td>\n",
       "      <td>1.0</td>\n",
       "      <td>0.0</td>\n",
       "      <td>Nonprofit</td>\n",
       "    </tr>\n",
       "  </tbody>\n",
       "</table>\n",
       "<p>5 rows × 65 columns</p>\n",
       "</div>"
      ],
      "text/plain": [
       "  id ad  education  ofjobs  yearsexp  honors  volunteer  military  empholes  \\\n",
       "0  b  1          4       2         6       0          0         0         1   \n",
       "1  b  1          3       3         6       0          1         1         0   \n",
       "2  b  1          4       1         6       0          0         0         0   \n",
       "3  b  1          3       4         6       0          1         0         1   \n",
       "4  b  1          3       3        22       0          0         0         0   \n",
       "\n",
       "   occupspecific    ...      compreq  orgreq  manuf  transcom  bankreal trade  \\\n",
       "0             17    ...          1.0     0.0    1.0       0.0       0.0   0.0   \n",
       "1            316    ...          1.0     0.0    1.0       0.0       0.0   0.0   \n",
       "2             19    ...          1.0     0.0    1.0       0.0       0.0   0.0   \n",
       "3            313    ...          1.0     0.0    1.0       0.0       0.0   0.0   \n",
       "4            313    ...          1.0     1.0    0.0       0.0       0.0   0.0   \n",
       "\n",
       "  busservice othservice  missind  ownership  \n",
       "0        0.0        0.0      0.0             \n",
       "1        0.0        0.0      0.0             \n",
       "2        0.0        0.0      0.0             \n",
       "3        0.0        0.0      0.0             \n",
       "4        0.0        1.0      0.0  Nonprofit  \n",
       "\n",
       "[5 rows x 65 columns]"
      ]
     },
     "execution_count": 39,
     "metadata": {},
     "output_type": "execute_result"
    }
   ],
   "source": [
    "data.head()\n"
   ]
  },
  {
   "cell_type": "markdown",
   "metadata": {
    "collapsed": true
   },
   "source": [
    "CLT Conditions\n",
    "Randomization - each sample should represent a random sample from population, or at least the population distribution.\n",
    "As stated above the 'b' and 'w' race values were assigned randomly. Randomization is met.\n",
    "\n",
    "10% Rule - the sample size must not be bigger than 10% of the entire population.\n",
    "The estimated size of the US population is 325.7 million, so 10% is 32.7 million.  We have 4870 data points, so this condition is met.\n",
    "\n",
    "Large Enough Sample Size - Sample size n should be large enough so that np>=10 and nq>=10.\n",
    "Both probablities of success for blacks and whites are greater than 10 as well as the probabilities of failure.  This condition is met.\n",
    "\n",
    "We should use the z-Test because we have a high sample size and the distribution is normal.\n",
    "\n",
    "rate_w = the percentage of callbacks for white sounding names\n",
    "rate_b = the percentage of callbacks for black sounding names\n",
    "\n",
    "The null hypothesis (H0) : rate_w - rate_b = 0\n",
    "The alternate hypothesis (HA) : rate_w - rate_b != 0\n"
   ]
  },
  {
   "cell_type": "code",
   "execution_count": 13,
   "metadata": {
    "collapsed": true
   },
   "outputs": [],
   "source": []
  },
  {
   "cell_type": "code",
   "execution_count": 71,
   "metadata": {},
   "outputs": [
    {
     "name": "stdout",
     "output_type": "stream",
     "text": [
      "                       CB  No CB  Total % Success\n",
      "White-sounding names  235   2200   2435     9.65%\n",
      "Black-sounding names  157   2278   2435     6.45%\n",
      "Aggregate             392   4478   4870     8.05%\n",
      "Callback rate difference: 0.0320328542094\n",
      "\n",
      "BOOTSTRAP RESULTS\n",
      "p-value: 0.0\n",
      "95% conf. int.: [-0.01478439  0.01519507]\n",
      "margin of error: 0.00389844723663\n"
     ]
    },
    {
     "data": {
      "image/png": "[encoded data removed]",
      "text/plain": [
       "<matplotlib.figure.Figure at 0xaa370f0>"
      ]
     },
     "metadata": {},
     "output_type": "display_data"
    }
   ],
   "source": [
    "#Compute margin of error, confidence interval, and p-value. \n",
    "# bootstrapping\n",
    "%matplotlib inline\n",
    "import matplotlib.pyplot as plt\n",
    "import numpy as np \n",
    "import pandas as pd\n",
    "# Your solution to Q3 here\n",
    "\n",
    "np.random.seed(42)\n",
    "\n",
    "\n",
    "\n",
    "data = pd.io.stata.read_stata('data/us_job_market_discrimination.dta')\n",
    "\n",
    "w = data[data.race=='w']\n",
    "b = data[data.race=='b']\n",
    "\n",
    "# white-sounding names\n",
    "w_r = np.sum(w.call)\n",
    "w_n = len(w)\n",
    "w_p = (w_r / w_n)\n",
    "\n",
    "# black-sounding names\n",
    "b_r = np.sum(b.call)\n",
    "b_n = len(b)\n",
    "b_p = (b_r / b_n)\n",
    "\n",
    "# aggregate values\n",
    "r = np.sum(data.call)\n",
    "n = len(data)\n",
    "p = r/n\n",
    "\n",
    "tabledata = {'CB': np.array([w_r, b_r, r]).astype(int),\n",
    "        'No CB': np.array([w_n - w_r, b_n - b_r, n - r]).astype(int),\n",
    "        'Total': np.array([w_n, b_n, n]).astype(int),\n",
    "        '% Success': np.array(['{:.2%}'.format(w_r/w_n), '{:.2%}'.format(b_r/b_n), '{:.2%}'.format(r/n)])}\n",
    "\n",
    "tbl = pd.DataFrame(tabledata, columns = ['CB', 'No CB', 'Total', '% Success'], \n",
    "                   index = ['White-sounding names', 'Black-sounding names', 'Aggregate'])\n",
    "\n",
    "print(tbl)\n",
    "\n",
    "prop_diff = w_p - b_p\n",
    "\n",
    "# Construct arrays of data: white-sounding names, black-sounding names\n",
    "all_callbacks = np.array([True] * int(r) + [False] * int(n-r))\n",
    "size = 10000\n",
    "\n",
    "bs_reps_diff = np.empty(size)\n",
    "\n",
    "\n",
    "for i in range(size):\n",
    "    w_bs_replicates = np.sum(np.random.choice(all_callbacks, size=w_n))\n",
    "    b_bs_replicates = np.sum(np.random.choice(all_callbacks, size=b_n))\n",
    "    bs_reps_diff[i] = (1.0*w_bs_replicates - b_bs_replicates)/b_n\n",
    "    \n",
    "bs_p_value = 1.0*np.sum(bs_reps_diff >= prop_diff) / len(bs_reps_diff)\n",
    "\n",
    "bs_ci = np.percentile(bs_reps_diff, [2.5, 97.5])\n",
    "bs_mean_diff = np.mean(bs_reps_diff)\n",
    "sem = np.std(data[\"call\"]) / np.sqrt(len(data))\n",
    "print('Callback rate difference: {}\\n'.format(prop_diff))\n",
    "print('BOOTSTRAP RESULTS\\np-value: {:0.8}\\n95% conf. int.: {}\\nmargin of error: {}'.format(bs_p_value, bs_ci,sem))\n",
    "\n",
    "_ = plt.hist(bs_reps_diff, bins=20)\n",
    "_ = plt.axvline(prop_diff, color='red')\n",
    "_ = plt.axvline(np.max(bs_reps_diff), color='blue')\n",
    "_ = plt.xlabel('% Diff')\n",
    "_ = plt.ylabel('Frequency')\n",
    "_ = plt.title('Fig 3.1: Empirical v Bootstrap Proportional Differences')\n",
    "_ = plt.text(-0.0275, 1300, 'Observed Diff: +{:0.5}% \\n\\nHighest BS Diff: +{:0.5}% '.format(prop_diff*100, np.max(bs_reps_diff)*100))\n",
    "\n"
   ]
  },
  {
   "cell_type": "code",
   "execution_count": 67,
   "metadata": {},
   "outputs": [
    {
     "name": "stdout",
     "output_type": "stream",
     "text": [
      "Observed difference in proportions: \t 0.0320328542094\n",
      "\n",
      "z-stat: \t 5.81017218579\n",
      "p-value: \t 6.24086227141e-09\n",
      "95% conf int: \t 0.0167774478596 - 0.0472882605593\n",
      "Margin of err: \t +/-0.0152554063499\n"
     ]
    },
    {
     "data": {
      "image/png": "[encoded data removed]",
      "text/plain": [
       "<matplotlib.figure.Figure at 0xc789668>"
      ]
     },
     "metadata": {},
     "output_type": "display_data"
    }
   ],
   "source": [
    "#Frequentist\n",
    "def ztest_proportions_two_samples(r1, n1, r2, n2, one_sided=False):\n",
    "    \"\"\"Returns the z-statistic and p-value for a 2-sample Z-test of proportions\"\"\"\n",
    "    p1 = r1/n1\n",
    "    p2 = r2/n2\n",
    "    p = (r1+r2)/(n1+n2)\n",
    "    se = np.sqrt(1.0*p*(1-p)*(1.0/n1+1/n2))\n",
    "    z = (p1-p2)/se\n",
    "    p = 1-stats.norm.cdf(abs(z))\n",
    "    p *= 2-one_sided\n",
    "    return z, p\n",
    "\n",
    "# 95% confidence interval\n",
    "prop_diff = w_p - b_p\n",
    "print('Observed difference in proportions: \\t {}\\n'.format(prop_diff))\n",
    "\n",
    "z_crit = 1.96\n",
    "p_hat1 = w_p*(1-w_p)/w_n\n",
    "p_hat2 =  b_p*(1-b_p)/b_n\n",
    "ci_high = prop_diff + z_crit*(np.sqrt(p_hat1 + p_hat2))\n",
    "ci_low = prop_diff - z_crit*(np.sqrt(p_hat1 + p_hat2))\n",
    "z_stat, p_val = ztest_proportions_two_samples(w_r, w_n, b_r, b_n)\n",
    "print('z-stat: \\t {}\\np-value: \\t {}'.format(z_stat, p_val))\n",
    "\n",
    "print('95% conf int: \\t {} - {}'.format(ci_low, ci_high))\n",
    "moe = (ci_high - ci_low)/2\n",
    "print('Margin of err: \\t +/-{}'.format(moe))\n",
    "\n",
    "plt.rcParams[\"figure.figsize\"] = (10, 8)\n",
    "\n",
    "# Graph the Frequentist results\n",
    "x = np.linspace(- 0.06, 0.06, 100, endpoint=True)\n",
    "pdf = [stats.norm.pdf(_, loc=0, scale=moe) for _ in x]\n",
    "plt.plot(x, pdf, 'k-')\n",
    "plt.figsize = (10, 8)\n",
    "\n",
    "_ = plt.axvline(ci_high, color='red')\n",
    "_ = plt.axvline(ci_low, color='red')\n",
    "_ = plt.axvline(0, color='blue')\n",
    "_ = plt.text(-0.023, 3, '$H_0: p_w - p_b = 0$')\n",
    "_ = plt.text(0.022, 23, '95% Confidence \\n     Interval')\n",
    "_ = plt.title('Fig 3.2: Frequentist Approach');"
   ]
  },
  {
   "cell_type": "markdown",
   "metadata": {},
   "source": [
    "The p-value for the Bootstrap and Frequentist approach are both below the p=0.05 threshold so the null hypothesis must be rejected in favor of the alternate hypothesis, that the perception of race based on the name of the resume does have an effect as to whether an applicant will have a call back.\n",
    "\n",
    "The null hypothersis expects rate_w - rate_b = 0, but figure 3.2 shows that the lower cut-off of the 95% confidence interval is 1.68%, well above 0%.  Figure 3.1 shows that after 10000 bootstrap samples, the greatest difference between success rates is 2.96%, well below the observed difference of 3.2%.\n",
    "\n",
    "In can be concluded that for samples taken in a similar fashion from the same population, at least 95% of the time, the difference in proportions will not be as great as the observations seen here."
   ]
  },
  {
   "cell_type": "markdown",
   "metadata": {
    "collapsed": true
   },
   "source": [
    "Does your analysis mean that race/name is the most important factor in callback success? Why or why not? If not, how would you amend your analysis?\n",
    "\n",
    "There may be a correlation between years of experience and call back rates."
   ]
  },
  {
   "cell_type": "code",
   "execution_count": 34,
   "metadata": {},
   "outputs": [
    {
     "name": "stderr",
     "output_type": "stream",
     "text": [
      "C:\\ProgramData\\Anaconda3\\lib\\site-packages\\ipykernel_launcher.py:13: FutureWarning: using a dict on a Series for aggregation\n",
      "is deprecated and will be removed in a future version\n",
      "  del sys.path[0]\n"
     ]
    },
    {
     "data": {
      "image/png": "[encoded data removed]",
      "text/plain": [
       "<Figure size 907.25x288 with 1 Axes>"
      ]
     },
     "metadata": {},
     "output_type": "display_data"
    }
   ],
   "source": [
    "%matplotlib inline\n",
    "import matplotlib.pyplot as plt\n",
    "import numpy as np \n",
    "import pandas as pd\n",
    "import seaborn as sns\n",
    "\n",
    "\n",
    "np.random.seed(42)\n",
    "\n",
    "\n",
    "data = pd.io.stata.read_stata('data/us_job_market_discrimination.dta')\n",
    "\n",
    "subset = data.groupby(['yearsexp','race'])['call'].agg({'total':'count','calls':'sum'})\n",
    "subset.head()\n",
    "subset['Percent'] = subset['calls']/subset['total']*100\n",
    "subset.reset_index(inplace=True)\n",
    "#print(subset)\n",
    "sns.set_style(\"whitegrid\")\n",
    "\n",
    "_ = sns.factorplot(x='yearsexp', y='Percent', hue='race', data=subset, kind='bar', size=4, aspect=3)\n",
    "# ax = sns.barplot(x='yearsexp', y='Percent', hue='race', data=subset)\n",
    "_ = plt.title('Percentage of call backs over years of experience')\n",
    "#ax.set(xlim=(0,50))\n"
   ]
  },
  {
   "cell_type": "markdown",
   "metadata": {
    "collapsed": true
   },
   "source": [
    "Analysis\n",
    "After looking at a years of experience breakdown of race and call back percentage, it looks like there are age periods (7 out of 22) where the black call back rate either exceeds or matches the white call back rate.  So based on years of experience, 31% of the time, blacks were called back more."
   ]
  }
 ],
 "metadata": {
  "kernelspec": {
   "display_name": "Python 3",
   "language": "python",
   "name": "python3"
  },
  "language_info": {
   "codemirror_mode": {
    "name": "ipython",
    "version": 3
   },
   "file_extension": ".py",
   "mimetype": "text/x-python",
   "name": "python",
   "nbconvert_exporter": "python",
   "pygments_lexer": "ipython3",
   "version": "3.6.5"
  }
 },
 "nbformat": 4,
 "nbformat_minor": 1
}
